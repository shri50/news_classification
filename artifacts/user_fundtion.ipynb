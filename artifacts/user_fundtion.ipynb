{
 "cells": [
  {
   "cell_type": "code",
   "execution_count": 10,
   "id": "395e01de",
   "metadata": {},
   "outputs": [],
   "source": [
    "import pickle \n",
    "import re\n",
    "from wordcloud import STOPWORDS"
   ]
  },
  {
   "cell_type": "code",
   "execution_count": 66,
   "id": "eaf1863f",
   "metadata": {},
   "outputs": [],
   "source": [
    "with open(\"ml_model.pkl\",\"rb\") as file:\n",
    "    model = pickle.load(file) \n",
    "    \n",
    "with open(\"vector.pkl\",\"rb\") as file: \n",
    "    vectorizer = pickle.load(file)\n",
    "    \n",
    "with open(\"tokenizer.pkl\", \"rb\") as file: \n",
    "    tokenizer =  pickle.load(file)\n",
    "    \n",
    "with open(\"labels.pkl\",\"rb\") as file:\n",
    "    encoder = pickle.load(file)"
   ]
  },
  {
   "cell_type": "code",
   "execution_count": 39,
   "id": "45a2c635",
   "metadata": {},
   "outputs": [],
   "source": [
    "def clean_text(text):\n",
    "    text = text.lower()\n",
    "    text = re.sub(r'[^a-zA-Z]',' ', text)\n",
    "    text = text.strip()\n",
    "    \n",
    "    # remove stop words\n",
    "    text = [word for word in text.split() if word not in list(STOPWORDS)]\n",
    "    \n",
    "    text = \" \".join(text)\n",
    "    return text\n",
    "    "
   ]
  },
  {
   "cell_type": "code",
   "execution_count": 16,
   "id": "c9f2b867",
   "metadata": {},
   "outputs": [
    {
     "name": "stdout",
     "output_type": "stream",
     "text": [
      "Orginal content\n",
      "= Reports of breach of data from CoWin without any basis: Health ministry\n",
      "The Union health ministry on Monday rejected several media reports about a massive data breach in the CoWin platform, even as it requested the country's nodal cyber security agency CERT-In to look into the issue and submit a report.\n",
      "\n",
      "**************************************************\n",
      "After Cleaning\n",
      " = reports breach data cowin without basis health ministry union health ministry monday rejected several media reports massive data breach cowin platform even requested country s nodal cyber security agency cert look issue submit report \n",
      "--------------------------------------------------\n",
      "news vector\n",
      " =   (0, 2931)\t1\n",
      "  (0, 12800)\t1\n",
      "  (0, 19289)\t2\n",
      "  (0, 25686)\t1\n",
      "  (0, 35472)\t1\n",
      "  (0, 38297)\t1\n",
      "  (0, 39135)\t2\n",
      "  (0, 53570)\t1\n",
      "  (0, 71917)\t2\n",
      "  (0, 82570)\t1\n",
      "  (0, 93862)\t1\n",
      "  (0, 97998)\t1\n",
      "  (0, 99349)\t1\n",
      "  (0, 101995)\t2\n",
      "  (0, 103677)\t1\n",
      "  (0, 121500)\t1\n",
      "  (0, 132237)\t1\n",
      "  (0, 133219)\t1\n",
      "  (0, 133434)\t2\n",
      "  (0, 133738)\t1\n",
      "  (0, 142806)\t1\n",
      "  (0, 144164)\t1\n",
      "  (0, 155792)\t1\n",
      "  (0, 170368)\t1\n",
      "  (0, 179246)\t1\n",
      "['POLITICS']\n"
     ]
    }
   ],
   "source": [
    "news = \"\"\"Reports of breach of data from CoWin without any basis: Health ministry\n",
    "The Union health ministry on Monday rejected several media reports about a massive data breach in the CoWin platform, even as it requested the country's nodal cyber security agency CERT-In to look into the issue and submit a report.\n",
    "\"\"\"\n",
    "print(f\"Orginal content\\n= {news}\")\n",
    "clean_news = clean_text(news)\n",
    "print(\"*\"*50)\n",
    "print(f\"After Cleaning\\n = {clean_news} \")\n",
    "# model.predict(news)\n",
    "news_vector = vectorizer.transform([clean_news])\n",
    "\n",
    "print(\"-\"*50)\n",
    "print(f\"news vector\\n = {news_vector}\")\n",
    "\n",
    "result = model.predict(news_vector)\n",
    "\n",
    "print(result)\n"
   ]
  },
  {
   "cell_type": "code",
   "execution_count": null,
   "id": "62cdc6c8",
   "metadata": {},
   "outputs": [],
   "source": [
    "['U.S. NEWS', 'COMEDY', 'PARENTING', 'WORLD NEWS', 'CULTURE & ARTS',\n",
    "       'TECH', 'SPORTS', 'ENTERTAINMENT', 'POLITICS', 'WEIRD NEWS',\n",
    "       'ENVIRONMENT', 'EDUCATION', 'CRIME', 'SCIENCE', 'WELLNESS',\n",
    "       'BUSINESS', 'STYLE & BEAUTY', 'FOOD & DRINK', 'MEDIA',\n",
    "       'QUEER VOICES', 'HOME & LIVING', 'WOMEN', 'BLACK VOICES', 'TRAVEL',\n",
    "       'MONEY', 'RELIGION', 'LATINO VOICES', 'IMPACT', 'WEDDINGS',\n",
    "       'COLLEGE', 'PARENTS', 'ARTS & CULTURE', 'STYLE', 'GREEN', 'TASTE',\n",
    "       'HEALTHY LIVING', 'THE WORLDPOST', 'GOOD NEWS', 'WORLDPOST',\n",
    "       'FIFTY', 'ARTS', 'DIVORCE']"
   ]
  },
  {
   "cell_type": "code",
   "execution_count": null,
   "id": "a15be0ee",
   "metadata": {},
   "outputs": [],
   "source": [
    "content                      Predicted       Ground Truth \n",
    "Reports of breach of data    'POLITICS'      'POLITICS'      >> TP\n",
    "\n",
    "Reports of breach of data    'POLITICS'      'SPORTS'        >> FP\n",
    "\n",
    "Reports of breach of data    'MONEY'         'POLITICS'      >> FN\n"
   ]
  },
  {
   "cell_type": "code",
   "execution_count": 18,
   "id": "db3b93dd",
   "metadata": {},
   "outputs": [
    {
     "name": "stdout",
     "output_type": "stream",
     "text": [
      "Orginal content\n",
      "= Reports of breach of data from CoWin without any basis: Health ministry\n",
      "The Union health ministry on Monday rejected several media reports about a massive data breach in the CoWin platform, even as it requested the country's nodal cyber security agency CERT-In to look into the issue and submit a report.\n",
      "GenZ carries a spirit of unyielding freedom. They are the young & fearless ones, always on the move to explore the unknown. They are expressive & so want their gadgets to help them step up in life. Understanding this pulse of the GenZ is the tech major Samsung. The brand has carved out a special place amongst the youth as a dependable smartphone maker who always has their back. And today, Samsung has launched a device that aims to exceed their expectations. Make way for Samsung Galaxy F54 5G - the latest offering from Samsung's camp with much to offer\n",
      "\n",
      "**************************************************\n",
      "After Cleaning\n",
      " = reports breach data cowin without basis health ministry union health ministry monday rejected several media reports massive data breach cowin platform even requested country s nodal cyber security agency cert look issue submit report genz carries spirit unyielding freedom young fearless ones always move explore unknown expressive want gadgets help step life understanding pulse genz tech major samsung brand carved special place amongst youth dependable smartphone maker always back today samsung launched device aims exceed expectations make way samsung galaxy f g latest offering samsung s camp much offer \n",
      "--------------------------------------------------\n",
      "news vector\n",
      " =   (0, 2931)\t1\n",
      "  (0, 3449)\t1\n",
      "  (0, 4894)\t2\n",
      "  (0, 5517)\t1\n",
      "  (0, 10919)\t1\n",
      "  (0, 12800)\t1\n",
      "  (0, 19089)\t1\n",
      "  (0, 19289)\t2\n",
      "  (0, 22620)\t1\n",
      "  (0, 24229)\t1\n",
      "  (0, 24350)\t1\n",
      "  (0, 25686)\t1\n",
      "  (0, 35472)\t1\n",
      "  (0, 38297)\t1\n",
      "  (0, 39135)\t2\n",
      "  (0, 42284)\t1\n",
      "  (0, 43229)\t1\n",
      "  (0, 53570)\t1\n",
      "  (0, 54183)\t1\n",
      "  (0, 54673)\t1\n",
      "  (0, 55034)\t1\n",
      "  (0, 55145)\t1\n",
      "  (0, 57387)\t1\n",
      "  (0, 62191)\t1\n",
      "  (0, 63619)\t1\n",
      "  :\t:\n",
      "  (0, 121500)\t1\n",
      "  (0, 127526)\t1\n",
      "  (0, 132237)\t1\n",
      "  (0, 133219)\t1\n",
      "  (0, 133434)\t2\n",
      "  (0, 133738)\t1\n",
      "  (0, 139420)\t4\n",
      "  (0, 142806)\t1\n",
      "  (0, 144164)\t1\n",
      "  (0, 148469)\t1\n",
      "  (0, 150767)\t1\n",
      "  (0, 151263)\t1\n",
      "  (0, 153381)\t1\n",
      "  (0, 155792)\t1\n",
      "  (0, 160178)\t1\n",
      "  (0, 163968)\t1\n",
      "  (0, 169906)\t1\n",
      "  (0, 170368)\t1\n",
      "  (0, 170590)\t1\n",
      "  (0, 171178)\t1\n",
      "  (0, 175431)\t1\n",
      "  (0, 176276)\t1\n",
      "  (0, 179246)\t1\n",
      "  (0, 182611)\t1\n",
      "  (0, 182782)\t1\n",
      "['WELLNESS']\n"
     ]
    }
   ],
   "source": [
    "news = \"\"\"Reports of breach of data from CoWin without any basis: Health ministry\n",
    "The Union health ministry on Monday rejected several media reports about a massive data breach in the CoWin platform, even as it requested the country's nodal cyber security agency CERT-In to look into the issue and submit a report.\n",
    "GenZ carries a spirit of unyielding freedom. They are the young & fearless ones, always on the move to explore the unknown. They are expressive & so want their gadgets to help them step up in life. Understanding this pulse of the GenZ is the tech major Samsung. The brand has carved out a special place amongst the youth as a dependable smartphone maker who always has their back. And today, Samsung has launched a device that aims to exceed their expectations. Make way for Samsung Galaxy F54 5G - the latest offering from Samsung's camp with much to offer\n",
    "\"\"\"\n",
    "print(f\"Orginal content\\n= {news}\")\n",
    "clean_news = clean_text(news)\n",
    "print(\"*\"*50)\n",
    "print(f\"After Cleaning\\n = {clean_news} \")\n",
    "# model.predict(news)\n",
    "news_vector = vectorizer.transform([clean_news])\n",
    "\n",
    "print(\"-\"*50)\n",
    "print(f\"news vector\\n = {news_vector}\")\n",
    "\n",
    "result = model.predict(news_vector)\n",
    "\n",
    "print(result)\n",
    "\n"
   ]
  },
  {
   "cell_type": "code",
   "execution_count": null,
   "id": "9ef68e72",
   "metadata": {},
   "outputs": [],
   "source": [
    "GT >> TECH \n",
    "Prediction >> WELLNESS\n",
    "\n",
    "FN"
   ]
  },
  {
   "cell_type": "code",
   "execution_count": null,
   "id": "abcd5a71",
   "metadata": {},
   "outputs": [],
   "source": []
  },
  {
   "cell_type": "code",
   "execution_count": null,
   "id": "1348e5c6",
   "metadata": {},
   "outputs": [],
   "source": [
    "### DL"
   ]
  },
  {
   "cell_type": "code",
   "execution_count": 61,
   "id": "d64c459c",
   "metadata": {},
   "outputs": [],
   "source": [
    "import numpy as np\n",
    "import tensorflow as tf\n",
    "from keras.preprocessing.text import Tokenizer\n",
    "from keras.utils import to_categorical, pad_sequences"
   ]
  },
  {
   "cell_type": "code",
   "execution_count": 22,
   "id": "e4b5f9c2",
   "metadata": {},
   "outputs": [
    {
     "name": "stdout",
     "output_type": "stream",
     "text": [
      "Model: \"sequential_1\"\n",
      "_________________________________________________________________\n",
      " Layer (type)                Output Shape              Param #   \n",
      "=================================================================\n",
      " embedding (Embedding)       (None, 130, 70)           11093460  \n",
      "                                                                 \n",
      " bidirectional (Bidirectiona  (None, 130, 128)         17280     \n",
      " l)                                                              \n",
      "                                                                 \n",
      " bidirectional_1 (Bidirectio  (None, 130, 128)         24704     \n",
      " nal)                                                            \n",
      "                                                                 \n",
      " simple_rnn_2 (SimpleRNN)    (None, 32)                5152      \n",
      "                                                                 \n",
      " dropout (Dropout)           (None, 32)                0         \n",
      "                                                                 \n",
      " dense (Dense)               (None, 42)                1386      \n",
      "                                                                 \n",
      "=================================================================\n",
      "Total params: 11,141,982\n",
      "Trainable params: 11,141,982\n",
      "Non-trainable params: 0\n",
      "_________________________________________________________________\n"
     ]
    }
   ],
   "source": [
    "model_rnn =tf.keras.models.load_model(r\"saved_model/simpleRNN\")\n",
    "model_rnn.summary()"
   ]
  },
  {
   "cell_type": "code",
   "execution_count": null,
   "id": "3b82cfe9",
   "metadata": {},
   "outputs": [],
   "source": []
  },
  {
   "cell_type": "code",
   "execution_count": 71,
   "id": "a0f3e4d0",
   "metadata": {},
   "outputs": [
    {
     "name": "stdout",
     "output_type": "stream",
     "text": [
      "Orginal content\n",
      "= Reports of breach of data from CoWin without any basis: Health ministry\n",
      "The Union health ministry on Monday rejected several media reports about a massive data breach in the CoWin platform, even as it requested the country's nodal cyber security agency CERT-In to look into the issue and submit a report.\n",
      "GenZ carries a spirit of unyielding freedom. They are the young & fearless ones, always on the move to explore the unknown. They are expressive & so want their gadgets to help them step up in life. Understanding this pulse of the GenZ is the tech major Samsung. The brand has carved out a special place amongst the youth as a dependable smartphone maker who always has their back. And today, Samsung has launched a device that aims to exceed their expectations. Make way for Samsung Galaxy F54 5G - the latest offering from Samsung's camp with much to offer\n",
      "\n",
      "After Cleaning\n",
      "= reports breach data cowin without basis health ministry union health ministry monday rejected several media reports massive data breach cowin platform even requested country s nodal cyber security agency cert look issue submit report genz carries spirit unyielding freedom young fearless ones always move explore unknown expressive want gadgets help step life understanding pulse genz tech major samsung brand carved special place amongst youth dependable smartphone maker always back today samsung launched device aims exceed expectations make way samsung galaxy f g latest offering samsung s camp much offer\n",
      "20/20 [==============================] - 1s 59ms/step\n"
     ]
    },
    {
     "data": {
      "text/plain": [
       "'HEALTHY LIVING'"
      ]
     },
     "execution_count": 71,
     "metadata": {},
     "output_type": "execute_result"
    }
   ],
   "source": [
    "news = \"\"\"Reports of breach of data from CoWin without any basis: Health ministry\n",
    "The Union health ministry on Monday rejected several media reports about a massive data breach in the CoWin platform, even as it requested the country's nodal cyber security agency CERT-In to look into the issue and submit a report.\n",
    "GenZ carries a spirit of unyielding freedom. They are the young & fearless ones, always on the move to explore the unknown. They are expressive & so want their gadgets to help them step up in life. Understanding this pulse of the GenZ is the tech major Samsung. The brand has carved out a special place amongst the youth as a dependable smartphone maker who always has their back. And today, Samsung has launched a device that aims to exceed their expectations. Make way for Samsung Galaxy F54 5G - the latest offering from Samsung's camp with much to offer\n",
    "\"\"\"\n",
    "print(f\"Orginal content\\n= {news}\")\n",
    "clean_news = clean_text(news)\n",
    "\n",
    "print(f\"After Cleaning\\n= {clean_news}\")\n",
    "\n",
    "text_seq = tokenizer.texts_to_sequences(clean_news)\n",
    "text_padpad_sequences= pad_sequences(text_seq, maxlen=130)\n",
    "\n",
    "result_predict = model_rnn.predict(text_padpad_sequences)\n",
    "prediction = encoder.inverse_transform([np.argmax(result_predict[0])])[0]\n",
    "prediction"
   ]
  },
  {
   "cell_type": "code",
   "execution_count": null,
   "id": "fbdd9862",
   "metadata": {},
   "outputs": [],
   "source": []
  },
  {
   "cell_type": "code",
   "execution_count": null,
   "id": "38c367c6",
   "metadata": {},
   "outputs": [],
   "source": []
  },
  {
   "cell_type": "code",
   "execution_count": null,
   "id": "48236d66",
   "metadata": {},
   "outputs": [],
   "source": []
  },
  {
   "cell_type": "code",
   "execution_count": null,
   "id": "81a7b7b2",
   "metadata": {},
   "outputs": [],
   "source": []
  }
 ],
 "metadata": {
  "kernelspec": {
   "display_name": "Python 3 (ipykernel)",
   "language": "python",
   "name": "python3"
  },
  "language_info": {
   "codemirror_mode": {
    "name": "ipython",
    "version": 3
   },
   "file_extension": ".py",
   "mimetype": "text/x-python",
   "name": "python",
   "nbconvert_exporter": "python",
   "pygments_lexer": "ipython3",
   "version": "3.9.16"
  }
 },
 "nbformat": 4,
 "nbformat_minor": 5
}
